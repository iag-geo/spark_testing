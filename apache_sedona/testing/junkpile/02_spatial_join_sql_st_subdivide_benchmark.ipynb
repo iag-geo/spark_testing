{
 "cells": [
  {
   "cell_type": "code",
   "execution_count": 4,
   "metadata": {},
   "outputs": [],
   "source": [
    "import lux\n",
    "import pandas as pd\n",
    "\n",
    "# lux.config.plotting_backend = \"matplotlib\"\n",
    "lux.config.sampling = False\n"
   ]
  },
  {
   "cell_type": "code",
   "execution_count": 8,
   "metadata": {},
   "outputs": [],
   "source": [
    "df = pd.read_csv(\"/Users/s57405/git/iag_geo/spark_testing/apache_sedona/testing/junkpile/02_spatial_join_sql_st_subdivide_benchmark.csv\")\n",
    "\n",
    "# convert times to seconds\n",
    "df[\"processing_time\"] = (pd.to_timedelta(df[\"processing_time\"])\n",
    "                         .astype('timedelta64[s]')\n",
    "                         .astype(int)\n",
    "                        )\n",
    "\n",
    "df[\"computer\"] = df[\"computer\"].astype(\"string\")\n",
    "\n",
    "# filter by run name\n",
    "df2 = df[df[\"computer\"] == \"macbook2-no-cache\"].drop(\"computer\", axis=1)\n",
    "\n",
    "\n"
   ]
  },
  {
   "cell_type": "code",
   "execution_count": 9,
   "metadata": {},
   "outputs": [
    {
     "data": {
      "application/vnd.jupyter.widget-view+json": {
       "model_id": "2d313915a41f4af291db2699611379a8",
       "version_major": 2,
       "version_minor": 0
      },
      "text/plain": [
       "Button(description='Toggle Pandas/Lux', layout=Layout(top='5px', width='140px'), style=ButtonStyle())"
      ]
     },
     "metadata": {},
     "output_type": "display_data"
    },
    {
     "data": {
      "application/vnd.jupyter.widget-view+json": {
       "model_id": "bbc887e27f5042459e06d7f3e40773f8",
       "version_major": 2,
       "version_minor": 0
      },
      "text/plain": [
       "Output()"
      ]
     },
     "metadata": {},
     "output_type": "display_data"
    },
    {
     "data": {
      "text/plain": []
     },
     "execution_count": 9,
     "metadata": {},
     "output_type": "execute_result"
    }
   ],
   "source": [
    "df2"
   ]
  },
  {
   "cell_type": "code",
   "execution_count": 4,
   "metadata": {},
   "outputs": [
    {
     "data": {
      "text/plain": [
       "{'Filter': [<Vis  (x: processing_time, y: partitions, color: boundaries  -- [computer=macbook]                              ) mark: scatter, score: 0.14 >,\n",
       "  <Vis  (x: processing_time, y: partitions, color: boundaries  -- [computer=imac]                                 ) mark: scatter, score: 0.14 >,\n",
       "  <Vis  (x: processing_time, y: partitions, color: boundaries  -- [computer=imac2]                                ) mark: scatter, score: 0.14 >,\n",
       "  <Vis  (x: processing_time, y: partitions, color: boundaries  -- [computer=imac3]                                ) mark: scatter, score: 0.14 >,\n",
       "  <Vis  (x: processing_time, y: partitions, color: boundaries  -- [computer=imac4]                                ) mark: scatter, score: 0.14 >,\n",
       "  <Vis  (x: processing_time, y: partitions, color: boundaries  -- [computer=macbook2]                             ) mark: scatter, score: 0.14 >,\n",
       "  <Vis  (x: processing_time, y: partitions, color: boundaries  -- [computer=macbook2-broadcast]                   ) mark: scatter, score: 0.14 >,\n",
       "  <Vis  (x: processing_time, y: partitions, color: boundaries  -- [computer=macbook2-no-cache]                    ) mark: scatter, score: 0.14 >,\n",
       "  <Vis  (x: processing_time, y: partitions, color: boundaries  -- [computer=macbook2-no-cache-low-bdy-partitions] ) mark: scatter, score: 0.14 >,\n",
       "  <Vis  (x: processing_time, y: partitions, color: boundaries  -- [points=14263909]                               ) mark: scatter, score: 0.14 >,\n",
       "  <Vis  (x: processing_time, y: partitions, color: boundaries  -- [points=14263887]                               ) mark: scatter, score: 0.14 >,\n",
       "  <Vis  (x: processing_time, y: partitions, color: boundaries  -- [points=14263876]                               ) mark: scatter, score: 0.14 >,\n",
       "  <Vis  (x: processing_time, y: partitions, color: boundaries  -- [points=14263930]                               ) mark: scatter, score: 0.14 >,\n",
       "  <Vis  (x: processing_time, y: partitions, color: boundaries  -- [points=14263896]                               ) mark: scatter, score: 0.14 >,\n",
       "  <Vis  (x: processing_time, y: partitions, color: boundaries  -- [points=14263879]                               ) mark: scatter, score: 0.14 >],\n",
       " 'Generalize': [<Vis  (x: processing_time      , y: partitions) mark: scatter, score: 1.00 >,\n",
       "  <Vis  (x: MEAN(partitions)     , y: boundaries) mark: bar    , score: 1.00 >,\n",
       "  <Vis  (x: MEAN(processing_time), y: boundaries) mark: bar    , score: 1.00 >]}"
      ]
     },
     "execution_count": 4,
     "metadata": {},
     "output_type": "execute_result"
    }
   ],
   "source": [
    "df.recommendation"
   ]
  },
  {
   "cell_type": "code",
   "execution_count": null,
   "metadata": {},
   "outputs": [],
   "source": [
    "df.info()"
   ]
  },
  {
   "cell_type": "code",
   "execution_count": null,
   "metadata": {},
   "outputs": [],
   "source": [
    "# df.exported"
   ]
  },
  {
   "cell_type": "code",
   "execution_count": null,
   "metadata": {},
   "outputs": [],
   "source": []
  }
 ],
 "metadata": {
  "kernelspec": {
   "display_name": "Python 3",
   "language": "python",
   "name": "python3"
  },
  "language_info": {
   "codemirror_mode": {
    "name": "ipython",
    "version": 3
   },
   "file_extension": ".py",
   "mimetype": "text/x-python",
   "name": "python",
   "nbconvert_exporter": "python",
   "pygments_lexer": "ipython3",
   "version": "3.9.2"
  }
 },
 "nbformat": 4,
 "nbformat_minor": 1
}
